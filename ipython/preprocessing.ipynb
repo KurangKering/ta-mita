{
 "cells": [
  {
   "cell_type": "code",
   "execution_count": 1,
   "metadata": {},
   "outputs": [],
   "source": [
    "import numpy as np\n",
    "import pandas as pd"
   ]
  },
  {
   "cell_type": "code",
   "execution_count": null,
   "metadata": {},
   "outputs": [],
   "source": []
  },
  {
   "cell_type": "code",
   "execution_count": 2,
   "metadata": {},
   "outputs": [],
   "source": [
    "# init variable \n",
    "# da = data awal, berisi 19 input dan 1 target\n",
    "# da_input = da yang hanya berisi 19 input tanpa target\n"
   ]
  },
  {
   "cell_type": "code",
   "execution_count": 2,
   "metadata": {},
   "outputs": [],
   "source": [
    "da = pd.read_csv('input/dataset-awal.csv')\n",
    "da_input = da.loc[:, ~da.columns.isin(['ID'])]\n",
    "da_min = np.min(da_input, axis=0)\n",
    "da_max = np.max(da_input, axis=0)\n",
    "da_input_norm = (da_input - da_min) / (da_max - da_min)\n",
    "da_norm = pd.concat([da['ID'], da_input_norm], axis=1)"
   ]
  },
  {
   "cell_type": "code",
   "execution_count": 3,
   "metadata": {},
   "outputs": [],
   "source": [
    "da_norm.to_csv('output/dataset-normalisasi.csv', index=False)"
   ]
  },
  {
   "cell_type": "code",
   "execution_count": 5,
   "metadata": {},
   "outputs": [],
   "source": [
    "import numpy as np\n",
    "import pandas as pd\n",
    "\n",
    "\n",
    "class Preprocessing:\n",
    "\n",
    "    \n",
    "    def normalisasi(self, df):\n",
    "        da_input = df.loc[:, ~df.columns.isin(['ID', 'CLASS'])]\n",
    "        da_min = np.min(da_input, axis=0)\n",
    "        da_max = np.max(da_input, axis=0)\n",
    "        da_input_norm = (da_input - da_min) / (da_max - da_min)\n",
    "        da_norm = pd.concat([da['ID'], da_input_norm, da['CLASS']], axis=1)\n",
    "        \n",
    "        self.min = da_min\n",
    "        self.max = da_max\n",
    "        return (da_norm, da_min, da_max)"
   ]
  },
  {
   "cell_type": "code",
   "execution_count": 10,
   "metadata": {},
   "outputs": [],
   "source": [
    "pre = Preprocessing()\n",
    "df, da_min, da_max = pre.normalisasi(da)"
   ]
  }
 ],
 "metadata": {
  "kernelspec": {
   "display_name": "Python 3",
   "language": "python",
   "name": "python3"
  },
  "language_info": {
   "codemirror_mode": {
    "name": "ipython",
    "version": 3
   },
   "file_extension": ".py",
   "mimetype": "text/x-python",
   "name": "python",
   "nbconvert_exporter": "python",
   "pygments_lexer": "ipython3",
   "version": "3.8.6"
  }
 },
 "nbformat": 4,
 "nbformat_minor": 4
}
