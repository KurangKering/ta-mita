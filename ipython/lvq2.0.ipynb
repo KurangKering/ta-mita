{
 "cells": [
  {
   "cell_type": "code",
   "execution_count": 34,
   "metadata": {},
   "outputs": [
    {
     "ename": "TypeError",
     "evalue": "'int' object is not callable",
     "output_type": "error",
     "traceback": [
      "\u001b[1;31m---------------------------------------------------------------------------\u001b[0m",
      "\u001b[1;31mTypeError\u001b[0m                                 Traceback (most recent call last)",
      "\u001b[1;32m<ipython-input-34-4a0f316ecf51>\u001b[0m in \u001b[0;36m<module>\u001b[1;34m\u001b[0m\n\u001b[0;32m      4\u001b[0m \u001b[1;32mfrom\u001b[0m \u001b[0mneupy\u001b[0m \u001b[1;32mimport\u001b[0m \u001b[0malgorithms\u001b[0m\u001b[1;33m\u001b[0m\u001b[1;33m\u001b[0m\u001b[0m\n\u001b[0;32m      5\u001b[0m \u001b[1;32mfrom\u001b[0m \u001b[0msklearn\u001b[0m\u001b[1;33m.\u001b[0m\u001b[0mmodel_selection\u001b[0m \u001b[1;32mimport\u001b[0m \u001b[0mtrain_test_split\u001b[0m\u001b[1;33m\u001b[0m\u001b[1;33m\u001b[0m\u001b[0m\n\u001b[1;32m----> 6\u001b[1;33m \u001b[0mnp\u001b[0m\u001b[1;33m.\u001b[0m\u001b[0mrandom\u001b[0m\u001b[1;33m.\u001b[0m\u001b[0mseed\u001b[0m\u001b[1;33m(\u001b[0m\u001b[1;36m0\u001b[0m\u001b[1;33m)\u001b[0m\u001b[1;33m\u001b[0m\u001b[1;33m\u001b[0m\u001b[0m\n\u001b[0m",
      "\u001b[1;31mTypeError\u001b[0m: 'int' object is not callable"
     ]
    }
   ],
   "source": [
    "import numpy as np\n",
    "import pandas as pd\n",
    "from random import randrange\n",
    "from neupy import algorithms\n",
    "from sklearn.model_selection import train_test_split\n",
    "np.random.seed = 0"
   ]
  },
  {
   "cell_type": "code",
   "execution_count": 17,
   "metadata": {
    "scrolled": true
   },
   "outputs": [],
   "source": [
    "dataset_norma = pd.read_csv('output/dataset-normalisasi.csv')\n",
    "X = dataset_norma.loc[:, ~dataset_norma.columns.isin(['ID', 'CLASS'])]\n",
    "y = dataset_normanorma.loc[:, dataset_norma.columns.isin(['CLASS'])]"
   ]
  },
  {
   "cell_type": "code",
   "execution_count": 31,
   "metadata": {},
   "outputs": [
    {
     "data": {
      "text/plain": [
       "19"
      ]
     },
     "execution_count": 31,
     "metadata": {},
     "output_type": "execute_result"
    }
   ],
   "source": [
    "X_train, X_test, y_train, y_test = train_test_split(X, y, test_size=0.1, stratify=data_output, random_state=0)\n"
   ]
  },
  {
   "cell_type": "code",
   "execution_count": 33,
   "metadata": {},
   "outputs": [
    {
     "name": "stdout",
     "output_type": "stream",
     "text": [
      "\n",
      "Main information\n",
      "\n",
      "[ALGORITHM] LVQ2\n",
      "\n",
      "[OPTION] verbose = True\n",
      "[OPTION] epoch_end_signal = None\n",
      "[OPTION] show_epoch = 1\n",
      "[OPTION] shuffle_data = False\n",
      "[OPTION] step = 0.1\n",
      "[OPTION] train_end_signal = None\n",
      "[OPTION] minstep = 1e-05\n",
      "[OPTION] n_classes = 2\n",
      "[OPTION] n_inputs = 19\n",
      "[OPTION] n_subclasses = None\n",
      "[OPTION] n_updates_to_stepdrop = None\n",
      "[OPTION] prototypes_per_class = None\n",
      "[OPTION] weight = None\n",
      "[OPTION] epsilon = 0.1\n",
      "\n",
      "\n",
      "Start training\n",
      "\n",
      "[TRAINING DATA] shapes: (138, 19)\n",
      "[TRAINING] Total epochs: 30\n",
      "\n",
      "---------------------------------------------------------\n",
      "|    Epoch    |  Train err  |  Valid err  |    Time     |\n",
      "---------------------------------------------------------\n",
      "|           1 |     0.23913 |           - |       60 ms |\n",
      "|           2 |     0.21014 |           - |       67 ms |\n",
      "|           3 |     0.18841 |           - |      101 ms |\n",
      "|           4 |     0.19565 |           - |       64 ms |\n",
      "|           5 |     0.19565 |           - |       61 ms |\n",
      "|           6 |     0.19565 |           - |       75 ms |\n",
      "|           7 |     0.18841 |           - |       91 ms |\n",
      "|           8 |     0.18841 |           - |       55 ms |\n",
      "|           9 |     0.19565 |           - |       65 ms |\n",
      "|          10 |     0.18841 |           - |      116 ms |\n",
      "|          11 |     0.19565 |           - |      171 ms |\n",
      "|          12 |      0.2029 |           - |       87 ms |\n",
      "|          13 |     0.19565 |           - |       81 ms |\n",
      "|          14 |     0.21739 |           - |      105 ms |\n",
      "|          15 |     0.18116 |           - |       99 ms |\n",
      "|          16 |     0.18841 |           - |      128 ms |\n",
      "|          17 |     0.18116 |           - |       75 ms |\n",
      "|          18 |     0.19565 |           - |       79 ms |\n",
      "|          19 |     0.18841 |           - |      114 ms |\n",
      "|          20 |     0.18116 |           - |       57 ms |\n",
      "|          21 |     0.18841 |           - |      117 ms |\n",
      "|          22 |     0.21014 |           - |       57 ms |\n",
      "|          23 |      0.2029 |           - |       65 ms |\n",
      "|          24 |     0.19565 |           - |       64 ms |\n",
      "|          25 |     0.18841 |           - |      105 ms |\n",
      "|          26 |     0.21014 |           - |      109 ms |\n",
      "|          27 |     0.19565 |           - |      125 ms |\n",
      "|          28 |     0.18841 |           - |       78 ms |\n",
      "|          29 |     0.19565 |           - |       76 ms |\n",
      "|          30 |     0.19565 |           - |       55 ms |\n",
      "---------------------------------------------------------\n",
      "\n"
     ]
    },
    {
     "data": {
      "text/plain": [
       "[array([0.23913043]),\n",
       " array([0.21014493]),\n",
       " array([0.1884058]),\n",
       " array([0.19565217]),\n",
       " array([0.19565217]),\n",
       " array([0.19565217]),\n",
       " array([0.1884058]),\n",
       " array([0.1884058]),\n",
       " array([0.19565217]),\n",
       " array([0.1884058]),\n",
       " array([0.19565217]),\n",
       " array([0.20289855]),\n",
       " array([0.19565217]),\n",
       " array([0.2173913]),\n",
       " array([0.18115942]),\n",
       " array([0.1884058]),\n",
       " array([0.18115942]),\n",
       " array([0.19565217]),\n",
       " array([0.1884058]),\n",
       " array([0.18115942]),\n",
       " array([0.1884058]),\n",
       " array([0.21014493]),\n",
       " array([0.20289855]),\n",
       " array([0.19565217]),\n",
       " array([0.1884058]),\n",
       " array([0.21014493]),\n",
       " array([0.19565217]),\n",
       " array([0.1884058]),\n",
       " array([0.19565217]),\n",
       " array([0.19565217])]"
      ]
     },
     "execution_count": 33,
     "metadata": {},
     "output_type": "execute_result"
    }
   ],
   "source": [
    "lvqnet = algorithms.LVQ2(n_inputs=X.shape[1], n_classes=np.unique(y).size, verbose=True)\n",
    "lvqnet.train(X_train, y_train, epochs=30)\n",
    "lvqnet.errors"
   ]
  }
 ],
 "metadata": {
  "kernelspec": {
   "display_name": "Python 3",
   "language": "python",
   "name": "python3"
  },
  "language_info": {
   "codemirror_mode": {
    "name": "ipython",
    "version": 3
   },
   "file_extension": ".py",
   "mimetype": "text/x-python",
   "name": "python",
   "nbconvert_exporter": "python",
   "pygments_lexer": "ipython3",
   "version": "3.8.7"
  }
 },
 "nbformat": 4,
 "nbformat_minor": 4
}
