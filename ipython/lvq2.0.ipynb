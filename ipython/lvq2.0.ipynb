{
 "cells": [
  {
   "cell_type": "code",
   "execution_count": 4,
   "metadata": {},
   "outputs": [
    {
     "name": "stderr",
     "output_type": "stream",
     "text": [
      "WARNING (theano.configdefaults): g++ not available, if using conda: `conda install m2w64-toolchain`\n",
      "c:\\users\\xxx\\envs\\mita\\lib\\site-packages\\theano\\configdefaults.py:560: UserWarning: DeprecationWarning: there is no c++ compiler.This is deprecated and with Theano 0.11 a c++ compiler will be mandatory\n",
      "  warnings.warn(\"DeprecationWarning: there is no c++ compiler.\"\n",
      "WARNING (theano.configdefaults): g++ not detected ! Theano will be unable to execute optimized C-implementations (for both CPU and GPU) and will default to Python implementations. Performance will be severely degraded. To remove this warning, set Theano flags cxx to an empty string.\n",
      "WARNING (theano.tensor.blas): Using NumPy C-API based implementation for BLAS functions.\n"
     ]
    }
   ],
   "source": [
    "import numpy as np\n",
    "import pandas as pd\n",
    "from random import randrange\n",
    "from neupy import algorithms"
   ]
  },
  {
   "cell_type": "code",
   "execution_count": 2,
   "metadata": {
    "scrolled": true
   },
   "outputs": [],
   "source": [
    "dataset_norma = pd.read_csv('output/dataset-normalisasi.csv')\n"
   ]
  },
  {
   "cell_type": "code",
   "execution_count": 5,
   "metadata": {},
   "outputs": [],
   "source": [
    "train_data = dataset_norma.loc[:, ~dataset_norma.columns.isin(['ID'])]"
   ]
  },
  {
   "cell_type": "code",
   "execution_count": 16,
   "metadata": {},
   "outputs": [],
   "source": [
    "X = train_data.iloc[:, :-1].to_numpy()\n",
    "Y = train_data.iloc[:, -1].to_numpy()"
   ]
  },
  {
   "cell_type": "code",
   "execution_count": 30,
   "metadata": {},
   "outputs": [
    {
     "data": {
      "text/plain": [
       "2"
      ]
     },
     "execution_count": 30,
     "metadata": {},
     "output_type": "execute_result"
    }
   ],
   "source": [
    "np.unique(Y).size"
   ]
  },
  {
   "cell_type": "code",
   "execution_count": 48,
   "metadata": {},
   "outputs": [
    {
     "name": "stdout",
     "output_type": "stream",
     "text": [
      "--Return--\n",
      "None\n",
      "> \u001b[1;32m<ipython-input-48-774891484f35>\u001b[0m(1)\u001b[0;36m<module>\u001b[1;34m()\u001b[0m\n",
      "\u001b[1;32m----> 1 \u001b[1;33m\u001b[1;32mimport\u001b[0m \u001b[0mpdb\u001b[0m\u001b[1;33m;\u001b[0m \u001b[0mpdb\u001b[0m\u001b[1;33m.\u001b[0m\u001b[0mset_trace\u001b[0m\u001b[1;33m(\u001b[0m\u001b[1;33m)\u001b[0m\u001b[1;33m;\u001b[0m\u001b[1;33m\u001b[0m\u001b[1;33m\u001b[0m\u001b[0m\n",
      "\u001b[0m\u001b[1;32m      2 \u001b[1;33m\u001b[0mlvqnet\u001b[0m \u001b[1;33m=\u001b[0m \u001b[0malgorithms\u001b[0m\u001b[1;33m.\u001b[0m\u001b[0mLVQ2\u001b[0m\u001b[1;33m(\u001b[0m\u001b[0mn_inputs\u001b[0m\u001b[1;33m=\u001b[0m\u001b[0mX\u001b[0m\u001b[1;33m.\u001b[0m\u001b[0mshape\u001b[0m\u001b[1;33m[\u001b[0m\u001b[1;36m1\u001b[0m\u001b[1;33m]\u001b[0m\u001b[1;33m,\u001b[0m \u001b[0mn_classes\u001b[0m\u001b[1;33m=\u001b[0m\u001b[0mnp\u001b[0m\u001b[1;33m.\u001b[0m\u001b[0munique\u001b[0m\u001b[1;33m(\u001b[0m\u001b[0mY\u001b[0m\u001b[1;33m)\u001b[0m\u001b[1;33m.\u001b[0m\u001b[0msize\u001b[0m\u001b[1;33m,\u001b[0m \u001b[0mverbose\u001b[0m\u001b[1;33m=\u001b[0m\u001b[1;32mTrue\u001b[0m\u001b[1;33m)\u001b[0m\u001b[1;33m\u001b[0m\u001b[1;33m\u001b[0m\u001b[0m\n",
      "\u001b[0m\u001b[1;32m      3 \u001b[1;33m\u001b[0mlvqnet\u001b[0m\u001b[1;33m.\u001b[0m\u001b[0mtrain\u001b[0m\u001b[1;33m(\u001b[0m\u001b[0mX\u001b[0m\u001b[1;33m,\u001b[0m \u001b[0mY\u001b[0m\u001b[1;33m,\u001b[0m \u001b[0mepochs\u001b[0m\u001b[1;33m=\u001b[0m\u001b[1;36m30\u001b[0m\u001b[1;33m)\u001b[0m\u001b[1;33m\u001b[0m\u001b[1;33m\u001b[0m\u001b[0m\n",
      "\u001b[0m\u001b[1;32m      4 \u001b[1;33m\u001b[0mlvqnet\u001b[0m\u001b[1;33m.\u001b[0m\u001b[0merrors\u001b[0m\u001b[1;33m\u001b[0m\u001b[1;33m\u001b[0m\u001b[0m\n",
      "\u001b[0m\n",
      "ipdb> c\n",
      "\n",
      "Main information\n",
      "\n",
      "[ALGORITHM] LVQ2\n",
      "\n",
      "[OPTION] verbose = True\n",
      "[OPTION] epoch_end_signal = None\n",
      "[OPTION] show_epoch = 1\n",
      "[OPTION] shuffle_data = False\n",
      "[OPTION] step = 0.1\n",
      "[OPTION] train_end_signal = None\n",
      "[OPTION] minstep = 1e-05\n",
      "[OPTION] n_classes = 2\n",
      "[OPTION] n_inputs = 19\n",
      "[OPTION] n_subclasses = None\n",
      "[OPTION] n_updates_to_stepdrop = None\n",
      "[OPTION] prototypes_per_class = None\n",
      "[OPTION] weight = None\n",
      "[OPTION] epsilon = 0.1\n",
      "\n",
      "\n",
      "Start training\n",
      "\n",
      "[TRAINING DATA] shapes: (154, 19)\n",
      "[TRAINING] Total epochs: 30\n",
      "\n",
      "---------------------------------------------------------\n",
      "|    Epoch    |  Train err  |  Valid err  |    Time     |\n",
      "---------------------------------------------------------\n",
      "|           1 |     0.16234 |           - |      114 ms |\n",
      "|           2 |     0.18831 |           - |       70 ms |\n",
      "|           3 |     0.17532 |           - |       77 ms |\n",
      "|           4 |     0.16883 |           - |       97 ms |\n",
      "|           5 |     0.17532 |           - |       70 ms |\n",
      "|           6 |     0.18182 |           - |       78 ms |\n",
      "|           7 |     0.16883 |           - |       97 ms |\n",
      "|           8 |     0.16234 |           - |       71 ms |\n",
      "|           9 |     0.17532 |           - |       74 ms |\n",
      "|          10 |     0.18182 |           - |      163 ms |\n",
      "|          11 |     0.16234 |           - |      140 ms |\n",
      "|          12 |     0.17532 |           - |      175 ms |\n",
      "|          13 |     0.18182 |           - |      126 ms |\n",
      "|          14 |     0.18182 |           - |      138 ms |\n",
      "|          15 |     0.16234 |           - |       81 ms |\n",
      "|          16 |     0.16883 |           - |       94 ms |\n",
      "|          17 |     0.16883 |           - |       77 ms |\n",
      "|          18 |     0.17532 |           - |       86 ms |\n",
      "|          19 |     0.16883 |           - |       87 ms |\n",
      "|          20 |     0.16883 |           - |       70 ms |\n",
      "|          21 |     0.16234 |           - |       81 ms |\n",
      "|          22 |     0.16883 |           - |       91 ms |\n",
      "|          23 |     0.16883 |           - |       80 ms |\n",
      "|          24 |     0.17532 |           - |       95 ms |\n",
      "|          25 |     0.16883 |           - |      300 ms |\n",
      "|          26 |     0.16883 |           - |      148 ms |\n",
      "|          27 |     0.16234 |           - |       93 ms |\n",
      "|          28 |     0.16883 |           - |      107 ms |\n",
      "|          29 |     0.16883 |           - |       82 ms |\n",
      "|          30 |     0.17532 |           - |      181 ms |\n",
      "---------------------------------------------------------\n",
      "\n"
     ]
    },
    {
     "data": {
      "text/plain": [
       "[array([0.16233766]),\n",
       " array([0.18831169]),\n",
       " array([0.17532468]),\n",
       " array([0.16883117]),\n",
       " array([0.17532468]),\n",
       " array([0.18181818]),\n",
       " array([0.16883117]),\n",
       " array([0.16233766]),\n",
       " array([0.17532468]),\n",
       " array([0.18181818]),\n",
       " array([0.16233766]),\n",
       " array([0.17532468]),\n",
       " array([0.18181818]),\n",
       " array([0.18181818]),\n",
       " array([0.16233766]),\n",
       " array([0.16883117]),\n",
       " array([0.16883117]),\n",
       " array([0.17532468]),\n",
       " array([0.16883117]),\n",
       " array([0.16883117]),\n",
       " array([0.16233766]),\n",
       " array([0.16883117]),\n",
       " array([0.16883117]),\n",
       " array([0.17532468]),\n",
       " array([0.16883117]),\n",
       " array([0.16883117]),\n",
       " array([0.16233766]),\n",
       " array([0.16883117]),\n",
       " array([0.16883117]),\n",
       " array([0.17532468])]"
      ]
     },
     "execution_count": 48,
     "metadata": {},
     "output_type": "execute_result"
    }
   ],
   "source": [
    "lvqnet = algorithms.LVQ2(n_inputs=X.shape[1], n_classes=np.unique(Y).size, verbose=True)\n",
    "lvqnet.train(X, Y, epochs=30)\n",
    "lvqnet.errors"
   ]
  }
 ],
 "metadata": {
  "kernelspec": {
   "display_name": "Python 3",
   "language": "python",
   "name": "python3"
  },
  "language_info": {
   "codemirror_mode": {
    "name": "ipython",
    "version": 3
   },
   "file_extension": ".py",
   "mimetype": "text/x-python",
   "name": "python",
   "nbconvert_exporter": "python",
   "pygments_lexer": "ipython3",
   "version": "3.8.6"
  }
 },
 "nbformat": 4,
 "nbformat_minor": 4
}
